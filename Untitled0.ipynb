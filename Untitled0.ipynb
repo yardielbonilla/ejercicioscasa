{
  "nbformat": 4,
  "nbformat_minor": 0,
  "metadata": {
    "colab": {
      "name": "Untitled0.ipynb",
      "version": "0.3.2",
      "provenance": [],
      "include_colab_link": true
    },
    "kernelspec": {
      "name": "python3",
      "display_name": "Python 3"
    }
  },
  "cells": [
    {
      "cell_type": "markdown",
      "metadata": {
        "id": "view-in-github",
        "colab_type": "text"
      },
      "source": [
        "<a href=\"https://colab.research.google.com/github/yardielbonilla/ejercicioscasa/blob/master/Untitled0.ipynb\" target=\"_parent\"><img src=\"https://colab.research.google.com/assets/colab-badge.svg\" alt=\"Open In Colab\"/></a>"
      ]
    },
    {
      "cell_type": "code",
      "metadata": {
        "id": "d8VztFntrtgk",
        "colab_type": "code",
        "colab": {}
      },
      "source": [
        "import numpy as np \n",
        "import matplotlib.pyplot as plt \n",
        "import pandas as pd "
      ],
      "execution_count": 0,
      "outputs": []
    },
    {
      "cell_type": "code",
      "metadata": {
        "id": "oPP4DfuasC7_",
        "colab_type": "code",
        "colab": {
          "base_uri": "https://localhost:8080/",
          "height": 238
        },
        "outputId": "823ffbe1-69c4-4284-8518-857c09d77907"
      },
      "source": [
        "data=pd.read_csv('https://raw.githubusercontent.com/jquetzalcoatl/Test/master/IsingData.dat',header=None, sep=\"\\t\")\n",
        "print(data.head())\n",
        "data.info()"
      ],
      "execution_count": 43,
      "outputs": [
        {
          "output_type": "stream",
          "text": [
            "   0     1     2     3     4     5     ...  1594  1595  1596  1597  1598  1599\n",
            "0   1.0   1.0   1.0   1.0  -1.0  -1.0  ...   1.0   1.0   1.0   1.0   1.0   1.0\n",
            "1  -1.0  -1.0  -1.0  -1.0  -1.0  -1.0  ...  -1.0  -1.0  -1.0  -1.0  -1.0  -1.0\n",
            "2   1.0  -1.0   1.0   1.0   1.0   1.0  ...   1.0   1.0   1.0   1.0   1.0   1.0\n",
            "3  -1.0  -1.0  -1.0  -1.0  -1.0  -1.0  ...  -1.0  -1.0  -1.0  -1.0  -1.0  -1.0\n",
            "4   1.0   1.0   1.0   1.0   1.0   1.0  ...   1.0   1.0   1.0   1.0   1.0   1.0\n",
            "\n",
            "[5 rows x 1600 columns]\n",
            "<class 'pandas.core.frame.DataFrame'>\n",
            "RangeIndex: 1400 entries, 0 to 1399\n",
            "Columns: 1600 entries, 0 to 1599\n",
            "dtypes: float64(1600)\n",
            "memory usage: 17.1 MB\n"
          ],
          "name": "stdout"
        }
      ]
    },
    {
      "cell_type": "code",
      "metadata": {
        "id": "as3Sw1wOsRIf",
        "colab_type": "code",
        "colab": {}
      },
      "source": [
        "x=data.values \n",
        "m=x.shape[0]\n",
        "n=x.shape[1]"
      ],
      "execution_count": 0,
      "outputs": []
    },
    {
      "cell_type": "code",
      "metadata": {
        "id": "YyetWXQJseO1",
        "colab_type": "code",
        "colab": {}
      },
      "source": [
        "#dx[x[j,i]-np.sum(x[:,i]/n for j in range(0,m) for in int range (0,n)]"
      ],
      "execution_count": 0,
      "outputs": []
    },
    {
      "cell_type": "code",
      "metadata": {
        "id": "MtzyK3-LtjFh",
        "colab_type": "code",
        "colab": {}
      },
      "source": [
        "dx2 = x- x.mean(axis=0)"
      ],
      "execution_count": 0,
      "outputs": []
    },
    {
      "cell_type": "code",
      "metadata": {
        "id": "HJ1qol4ktre5",
        "colab_type": "code",
        "colab": {}
      },
      "source": [
        "m=np.transpose(dx2)@dx2 * 1/(n-1)\n",
        "#m=np.cov(dx2)/(n-1)"
      ],
      "execution_count": 0,
      "outputs": []
    },
    {
      "cell_type": "code",
      "metadata": {
        "id": "yMuNskaDuHEI",
        "colab_type": "code",
        "colab": {}
      },
      "source": [
        "d, v=np.linalg.eig(m)"
      ],
      "execution_count": 0,
      "outputs": []
    },
    {
      "cell_type": "code",
      "metadata": {
        "id": "wrVHYbTnvMk6",
        "colab_type": "code",
        "colab": {}
      },
      "source": [
        "#dNorm=d/sum([d[i]for i in range(0,15)])\n",
        "dNorm=d/d[:15].sum()"
      ],
      "execution_count": 0,
      "outputs": []
    },
    {
      "cell_type": "code",
      "metadata": {
        "id": "1thIxYhow3AK",
        "colab_type": "code",
        "colab": {
          "base_uri": "https://localhost:8080/",
          "height": 51
        },
        "outputId": "0f6ccd0e-95b8-4986-9ab8-8332f6da3826"
      },
      "source": [
        "dNorm"
      ],
      "execution_count": 50,
      "outputs": [
        {
          "output_type": "execute_result",
          "data": {
            "text/plain": [
              "array([ 6.23821137e-01+0.j,  5.97922215e-02+0.j,  5.00806396e-02+0.j, ...,\n",
              "        1.06613674e-18+0.j,  1.00310370e-18+0.j, -6.61100323e-19+0.j])"
            ]
          },
          "metadata": {
            "tags": []
          },
          "execution_count": 50
        }
      ]
    },
    {
      "cell_type": "code",
      "metadata": {
        "id": "aDVj5fA8xLBL",
        "colab_type": "code",
        "colab": {
          "base_uri": "https://localhost:8080/",
          "height": 303
        },
        "outputId": "ff598b36-12cc-4215-8fc1-52e1bdac373d"
      },
      "source": [
        "plt.scatter(range(15),dNorm[:15])\n",
        "plt.show()"
      ],
      "execution_count": 52,
      "outputs": [
        {
          "output_type": "stream",
          "text": [
            "/usr/local/lib/python3.6/dist-packages/numpy/core/numeric.py:591: ComplexWarning: Casting complex values to real discards the imaginary part\n",
            "  return array(a, dtype, copy=False, order=order, subok=True)\n"
          ],
          "name": "stderr"
        },
        {
          "output_type": "display_data",
          "data": {
            "image/png": "[encoded data removed]",
            "text/plain": [
              "<Figure size 432x288 with 1 Axes>"
            ]
          },
          "metadata": {
            "tags": []
          }
        }
      ]
    },
    {
      "cell_type": "code",
      "metadata": {
        "id": "LnHPhFp8yqst",
        "colab_type": "code",
        "colab": {}
      },
      "source": [
        "vv1=dx2@v[:,0]\n",
        "vv2=dx2@v[:,1]"
      ],
      "execution_count": 0,
      "outputs": []
    },
    {
      "cell_type": "code",
      "metadata": {
        "id": "RHssWrWA2Hr9",
        "colab_type": "code",
        "colab": {
          "base_uri": "https://localhost:8080/",
          "height": 303
        },
        "outputId": "e9eeec38-821a-434f-cec3-2c0692fff24a"
      },
      "source": [
        "plt.scatter(vv1, vv2,  c=abs(vv1),cmap=\"hot\")\n",
        "plt.show()"
      ],
      "execution_count": 54,
      "outputs": [
        {
          "output_type": "stream",
          "text": [
            "/usr/local/lib/python3.6/dist-packages/numpy/core/numeric.py:591: ComplexWarning: Casting complex values to real discards the imaginary part\n",
            "  return array(a, dtype, copy=False, order=order, subok=True)\n"
          ],
          "name": "stderr"
        },
        {
          "output_type": "display_data",
          "data": {
            "image/png": "[encoded data removed]",
            "text/plain": [
              "<Figure size 432x288 with 1 Axes>"
            ]
          },
          "metadata": {
            "tags": []
          }
        }
      ]
    },
    {
      "cell_type": "code",
      "metadata": {
        "id": "In8ZE3YL7GTf",
        "colab_type": "code",
        "colab": {}
      },
      "source": [
        ""
      ],
      "execution_count": 0,
      "outputs": []
    }
  ]
}